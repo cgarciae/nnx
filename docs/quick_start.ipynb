{
 "cells": [
  {
   "cell_type": "code",
   "execution_count": 1,
   "metadata": {},
   "outputs": [
    {
     "name": "stderr",
     "output_type": "stream",
     "text": [
      "/home/cris/nnx/.venv/lib/python3.8/site-packages/tqdm/auto.py:21: TqdmWarning: IProgress not found. Please update jupyter and ipywidgets. See https://ipywidgets.readthedocs.io/en/stable/user_install.html\n",
      "  from .autonotebook import tqdm as notebook_tqdm\n"
     ]
    }
   ],
   "source": [
    "import jax\n",
    "import jax.numpy as jnp\n",
    "import numpy as np\n",
    "import datasets\n",
    "import matplotlib.pyplot as plt\n",
    "import optax\n",
    "\n",
    "import nnx"
   ]
  },
  {
   "cell_type": "code",
   "execution_count": 2,
   "metadata": {},
   "outputs": [
    {
     "name": "stderr",
     "output_type": "stream",
     "text": [
      "Found cached dataset mnist (/home/cris/.cache/huggingface/datasets/mnist/mnist/1.0.0/9d494b7f466d6931c64fb39d58bb1249a4d85c9eb9865d9bc20960b999e2a332)\n",
      "100%|██████████| 2/2 [00:00<00:00, 489.16it/s]\n"
     ]
    }
   ],
   "source": [
    "dataset = datasets.load_dataset(\"mnist\")\n",
    "X_train = np.array(np.stack(dataset[\"train\"][\"image\"]), dtype=np.uint8)[..., None]\n",
    "y_train = np.array(dataset[\"train\"][\"label\"], dtype=np.uint8)\n",
    "X_test = np.array(np.stack(dataset[\"test\"][\"image\"]), dtype=np.uint8)[..., None]\n",
    "y_test = np.array(dataset[\"test\"][\"label\"], dtype=np.uint8)"
   ]
  },
  {
   "cell_type": "code",
   "execution_count": 3,
   "metadata": {},
   "outputs": [
    {
     "data": {
      "image/png": "[encoded data removed]",
      "text/plain": [
       "<Figure size 600x600 with 9 Axes>"
      ]
     },
     "metadata": {},
     "output_type": "display_data"
    }
   ],
   "source": [
    "# plot a 3x3 grid of MNIST digits\n",
    "idxs = np.random.randint(0, len(X_train), size=(3, 3))\n",
    "fig, axes = plt.subplots(3, 3, figsize=(3*2, 3*2))\n",
    "\n",
    "for i in range(3):\n",
    "    for j in range(3):\n",
    "        axes[i, j].imshow(X_train[idxs[i, j]], cmap=\"gray\")\n",
    "        axes[i, j].axis(\"off\")\n",
    "        axes[i, j].set_title(f\"Label: {y_train[idxs[i, j]]}\")\n",
    "\n",
    "plt.show()"
   ]
  },
  {
   "cell_type": "code",
   "execution_count": 4,
   "metadata": {},
   "outputs": [
    {
     "name": "stderr",
     "output_type": "stream",
     "text": [
      "No GPU/TPU found, falling back to CPU. (Set TF_CPP_MIN_LOG_LEVEL=0 and rerun for more info.)\n"
     ]
    },
    {
     "data": {
      "text/plain": [
       "State({\n",
       "  'conv1/bias': Variable(\n",
       "    collection='params',\n",
       "    value=(32,)\n",
       "  ),\n",
       "  'conv1/kernel': Variable(\n",
       "    collection='params',\n",
       "    value=(3, 3, 1, 32)\n",
       "  ),\n",
       "  'conv2/bias': Variable(\n",
       "    collection='params',\n",
       "    value=(64,)\n",
       "  ),\n",
       "  'conv2/kernel': Variable(\n",
       "    collection='params',\n",
       "    value=(3, 3, 32, 64)\n",
       "  ),\n",
       "  'linear1/bias': Variable(\n",
       "    collection='params',\n",
       "    value=(256,)\n",
       "  ),\n",
       "  'linear1/kernel': Variable(\n",
       "    collection='params',\n",
       "    value=(3136, 256)\n",
       "  ),\n",
       "  'linear2/bias': Variable(\n",
       "    collection='params',\n",
       "    value=(10,)\n",
       "  ),\n",
       "  'linear2/kernel': Variable(\n",
       "    collection='params',\n",
       "    value=(256, 10)\n",
       "  )\n",
       "})"
      ]
     },
     "execution_count": 4,
     "metadata": {},
     "output_type": "execute_result"
    }
   ],
   "source": [
    "class CNN(nnx.Module):\n",
    "  def __init__(self, *, ctx: nnx.Context):\n",
    "    self.conv1 = nnx.Conv(1, 32, kernel_size=(3, 3), ctx=ctx)\n",
    "    self.conv2 = nnx.Conv(32, 64, kernel_size=(3, 3), ctx=ctx)\n",
    "    self.linear1 = nnx.Linear(7*7*64, 256, ctx=ctx)\n",
    "    self.linear2 = nnx.Linear(256, 10, ctx=ctx)\n",
    "\n",
    "  def __call__(self, x: jax.Array) -> jax.Array:\n",
    "    x = self.conv1(x)\n",
    "    x = nnx.relu(x)\n",
    "    x = nnx.avg_pool(x, window_shape=(2, 2), strides=(2, 2))\n",
    "    x = self.conv2(x)\n",
    "    x = nnx.relu(x)\n",
    "    x = nnx.avg_pool(x, window_shape=(2, 2), strides=(2, 2))\n",
    "    x = x.reshape((x.shape[0], -1))  # flatten\n",
    "    x = self.linear1(x)\n",
    "    x = nnx.relu(x)\n",
    "    x = self.linear2(x)\n",
    "    return x\n",
    "  \n",
    "model = CNN(ctx=nnx.context(0))\n",
    "\n",
    "jax.tree_map(jnp.shape, model.get_state())"
   ]
  },
  {
   "cell_type": "code",
   "execution_count": 5,
   "metadata": {},
   "outputs": [
    {
     "name": "stdout",
     "output_type": "stream",
     "text": [
      "Step 0: loss=62.6761\n",
      "Step 1: loss=139.6331\n",
      "Step 2: loss=65.8653\n",
      "Step 3: loss=14.9191\n",
      "Step 4: loss=7.7782\n",
      "Step 5: loss=4.8600\n",
      "Step 6: loss=2.7155\n",
      "Step 7: loss=2.5674\n",
      "Step 8: loss=2.2204\n",
      "Step 9: loss=1.6144\n"
     ]
    }
   ],
   "source": [
    "for step in range(10):\n",
    "    idxs = np.random.randint(0, len(X_train), size=32)\n",
    "    x = jnp.array(X_train[idxs])\n",
    "    y = jnp.array(y_train[idxs])\n",
    "\n",
    "    def loss_fn(model: CNN):\n",
    "        logits = model(x)\n",
    "        return optax.softmax_cross_entropy_with_integer_labels(logits, y).mean()\n",
    "    \n",
    "    loss, grads = nnx.value_and_grad(loss_fn, wrt=\"params\")(model)\n",
    "    params = model.filter(\"params\")\n",
    "    params = jax.tree_map(lambda w, g: w - 0.001 * g, params, grads)\n",
    "\n",
    "    model.update_state(params)\n",
    "    print(f\"Step {step}: loss={loss:.4f}\")"
   ]
  },
  {
   "cell_type": "code",
   "execution_count": 6,
   "metadata": {},
   "outputs": [],
   "source": [
    "params, moduledef = model.partition(\"params\")\n",
    "\n",
    "@jax.jit\n",
    "def train_step(params: nnx.State, x, y):\n",
    "    def loss_fn(params):\n",
    "        logits, _updates = moduledef.apply(params)(x)\n",
    "        return optax.softmax_cross_entropy_with_integer_labels(logits, y).mean()\n",
    "    \n",
    "    loss, grads = jax.value_and_grad(loss_fn)(params)\n",
    "    params = jax.tree_map(lambda w, g: w - 0.001 * g, params, grads)\n",
    "\n",
    "    return loss, params"
   ]
  },
  {
   "cell_type": "code",
   "execution_count": 7,
   "metadata": {},
   "outputs": [
    {
     "name": "stdout",
     "output_type": "stream",
     "text": [
      "Step 0: loss=1.6476\n",
      "Step 1: loss=1.4571\n",
      "Step 2: loss=1.1790\n",
      "Step 3: loss=1.3965\n",
      "Step 4: loss=1.3250\n",
      "Step 5: loss=1.0368\n",
      "Step 6: loss=0.7451\n",
      "Step 7: loss=1.2576\n",
      "Step 8: loss=1.1498\n",
      "Step 9: loss=0.8362\n"
     ]
    }
   ],
   "source": [
    "for step in range(10):\n",
    "    idxs = np.random.randint(0, len(X_train), size=32)\n",
    "    x = jnp.array(X_train[idxs])\n",
    "    y = jnp.array(y_train[idxs])\n",
    "\n",
    "    loss, params = train_step(params, x, y)\n",
    "    print(f\"Step {step}: loss={loss:.4f}\")\n",
    "\n",
    "model.update_state(params)"
   ]
  },
  {
   "cell_type": "code",
   "execution_count": 8,
   "metadata": {},
   "outputs": [],
   "source": [
    "state = nnx.TrainState(\n",
    "    apply_fn=moduledef.apply,\n",
    "    params=params,\n",
    "    tx=optax.adam(0.001), \n",
    ")\n",
    "\n",
    "@jax.jit\n",
    "def train_step(state: nnx.TrainState, x, y):\n",
    "\n",
    "    def loss_fn(params):\n",
    "        logits, _updates = state.apply_fn(params)(x)\n",
    "        return optax.softmax_cross_entropy_with_integer_labels(logits, y).mean()\n",
    "    \n",
    "    loss, grads = jax.value_and_grad(loss_fn)(state.params)\n",
    "\n",
    "    state = state.apply_gradients(grads=grads)\n",
    "\n",
    "    return loss, state\n",
    "\n",
    "@jax.jit\n",
    "def eval_step(state: nnx.TrainState, x, y):\n",
    "    logits, _updates = state.apply_fn(state.params)(x)\n",
    "    metrics = {\n",
    "        'accuracy': jnp.mean(jnp.argmax(logits, axis=-1) == y),\n",
    "        'loss': optax.softmax_cross_entropy_with_integer_labels(logits, y).mean()\n",
    "    }\n",
    "    return metrics"
   ]
  },
  {
   "cell_type": "code",
   "execution_count": 9,
   "metadata": {},
   "outputs": [
    {
     "name": "stdout",
     "output_type": "stream",
     "text": [
      "Step 0: {'accuracy': Array(0.67939997, dtype=float32), 'loss': Array(0.9810114, dtype=float32)}\n",
      "Step 100: {'accuracy': Array(0.9472, dtype=float32), 'loss': Array(0.16678722, dtype=float32)}\n",
      "Step 200: {'accuracy': Array(0.9504, dtype=float32), 'loss': Array(0.16086154, dtype=float32)}\n",
      "Step 300: {'accuracy': Array(0.9515, dtype=float32), 'loss': Array(0.16186629, dtype=float32)}\n",
      "Step 400: {'accuracy': Array(0.96959996, dtype=float32), 'loss': Array(0.09600201, dtype=float32)}\n",
      "Step 500: {'accuracy': Array(0.9715, dtype=float32), 'loss': Array(0.09574296, dtype=float32)}\n",
      "Step 600: {'accuracy': Array(0.97279996, dtype=float32), 'loss': Array(0.08801217, dtype=float32)}\n",
      "Step 700: {'accuracy': Array(0.97309995, dtype=float32), 'loss': Array(0.08728758, dtype=float32)}\n",
      "Step 800: {'accuracy': Array(0.98069996, dtype=float32), 'loss': Array(0.0568619, dtype=float32)}\n",
      "Step 900: {'accuracy': Array(0.9812, dtype=float32), 'loss': Array(0.06021253, dtype=float32)}\n",
      "Final metrics: {'accuracy': Array(0.9708, dtype=float32), 'loss': Array(0.09581941, dtype=float32)}\n"
     ]
    }
   ],
   "source": [
    "total_steps = 1000\n",
    "eval_every = 100\n",
    "\n",
    "for step in range(total_steps):\n",
    "    if step % eval_every == 0:\n",
    "        metrics = eval_step(state, jnp.array(X_test), jnp.array(y_test))\n",
    "        print(f\"Step {step}: {metrics}\")\n",
    "\n",
    "    idxs = np.random.randint(0, len(X_train), size=32)\n",
    "    x = jnp.array(X_train[idxs])\n",
    "    y = jnp.array(y_train[idxs])\n",
    "\n",
    "    loss, state = train_step(state, x, y)\n",
    "\n",
    "metrics = eval_step(state, jnp.array(X_test), jnp.array(y_test))\n",
    "print(f\"Final metrics: {metrics}\")"
   ]
  },
  {
   "cell_type": "code",
   "execution_count": 10,
   "metadata": {},
   "outputs": [
    {
     "data": {
      "image/png": "[encoded data removed]",
      "text/plain": [
       "<Figure size 600x600 with 9 Axes>"
      ]
     },
     "metadata": {},
     "output_type": "display_data"
    }
   ],
   "source": [
    "model.update_state(state.params)\n",
    "\n",
    "# plot a 3x3 grid of MNIST digits\n",
    "idxs = np.random.randint(0, len(X_test), size=(3, 3))\n",
    "fig, axes = plt.subplots(3, 3, figsize=(3*2, 3*2))\n",
    "\n",
    "for i in range(3):\n",
    "    for j in range(3):\n",
    "        logits = model(jnp.array([X_test[idxs[i, j]]]))\n",
    "        axes[i, j].imshow(X_test[idxs[i, j]], cmap=\"gray\")\n",
    "        axes[i, j].axis(\"off\")\n",
    "        axes[i, j].set_title(f\"Prediction: {jnp.argmax(logits)}\")"
   ]
  }
 ],
 "metadata": {
  "kernelspec": {
   "display_name": ".venv",
   "language": "python",
   "name": "python3"
  },
  "language_info": {
   "codemirror_mode": {
    "name": "ipython",
    "version": 3
   },
   "file_extension": ".py",
   "mimetype": "text/x-python",
   "name": "python",
   "nbconvert_exporter": "python",
   "pygments_lexer": "ipython3",
   "version": "3.8.10"
  },
  "orig_nbformat": 4
 },
 "nbformat": 4,
 "nbformat_minor": 2
}
