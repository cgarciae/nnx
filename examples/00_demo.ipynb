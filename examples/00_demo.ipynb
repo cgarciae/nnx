{
 "cells": [
  {
   "cell_type": "code",
   "execution_count": 1,
   "metadata": {},
   "outputs": [
    {
     "name": "stderr",
     "output_type": "stream",
     "text": [
      "No GPU/TPU found, falling back to CPU. (Set TF_CPP_MIN_LOG_LEVEL=0 and rerun for more info.)\n"
     ]
    },
    {
     "name": "stdout",
     "output_type": "stream",
     "text": [
      "Linear(\n",
      "  din=2,\n",
      "  dout=2\n",
      ")\n",
      "[[0.63114893 1.2928092 ]\n",
      " [0.63114893 1.2928092 ]]\n"
     ]
    }
   ],
   "source": [
    "import numpy as np\n",
    "import nnx\n",
    "import jax\n",
    "import jax.numpy as jnp\n",
    "\n",
    "class Linear(nnx.Module):\n",
    "    def __init__(self, din: int, dout: int, *, ctx: nnx.Context):\n",
    "        # static attributes\n",
    "        self.din = din\n",
    "        self.dout = dout\n",
    "        # variables\n",
    "        self.w = nnx.param(jax.random.uniform(ctx.make_rng(\"params\"), (din, dout)))\n",
    "        self.b = nnx.param(jnp.zeros((dout,)))\n",
    "        # other state\n",
    "        self.jax_array = jnp.array(1)\n",
    "        self.numpy_array = np.array(1)\n",
    "\n",
    "    def __call__(self, x):\n",
    "        return x @ self.w + self.b\n",
    "    \n",
    "linear = Linear(2, 2, ctx=nnx.context(0))\n",
    "\n",
    "y = linear(jnp.ones((2, 2)))\n",
    "\n",
    "print(linear)\n",
    "print(y)"
   ]
  },
  {
   "cell_type": "code",
   "execution_count": 2,
   "metadata": {},
   "outputs": [
    {
     "name": "stdout",
     "output_type": "stream",
     "text": [
      "State({\n",
      "  'b': Node(\n",
      "    value=Array([0., 0.], dtype=float32),\n",
      "    collection='params',\n",
      "    sharding=None\n",
      "  ),\n",
      "  'jax_array': Array(1, dtype=int32, weak_type=True),\n",
      "  'numpy_array': array(1),\n",
      "  'w': Node(\n",
      "    value=Array([[0.31696808, 0.55285215],\n",
      "           [0.31418085, 0.7399571 ]], dtype=float32),\n",
      "    collection='params',\n",
      "    sharding=None\n",
      "  )\n",
      "})\n",
      "ModuleDef(\n",
      "  type=Linear,\n",
      "  index=0,\n",
      "  submodules=(),\n",
      "  static_fields=(('din', 2), ('dout', 2))\n",
      ")\n"
     ]
    }
   ],
   "source": [
    "state, moduledef = linear.partition()\n",
    "\n",
    "print(state)\n",
    "print(moduledef)"
   ]
  },
  {
   "cell_type": "code",
   "execution_count": 3,
   "metadata": {},
   "outputs": [
    {
     "name": "stdout",
     "output_type": "stream",
     "text": [
      "Linear(\n",
      "  din=2,\n",
      "  dout=2,\n",
      "  submodule=Linear(...)\n",
      ")\n",
      "[[0.63114893 1.2928092 ]\n",
      " [0.63114893 1.2928092 ]]\n"
     ]
    }
   ],
   "source": [
    "class Linear(nnx.Module):\n",
    "    def __init__(self, din: int, dout: int, *, ctx: nnx.Context):\n",
    "        self.din = din\n",
    "        self.dout = dout\n",
    "        self.w = nnx.param(jax.random.uniform(ctx.make_rng(\"params\"), (din, dout)))\n",
    "        self.b = nnx.param(jnp.zeros((dout,)))\n",
    "        # introduce a self-reference\n",
    "        self.submodule = self\n",
    "\n",
    "    def __call__(self, x):\n",
    "        return x @ self.submodule.w + self.submodule.b\n",
    "    \n",
    "linear = Linear(2, 2, ctx=nnx.context(0))\n",
    "\n",
    "y = linear(jnp.ones((2, 2)))\n",
    "\n",
    "print(linear)\n",
    "print(y)"
   ]
  },
  {
   "cell_type": "code",
   "execution_count": 4,
   "metadata": {},
   "outputs": [
    {
     "name": "stdout",
     "output_type": "stream",
     "text": [
      "State({\n",
      "  'b': Node(\n",
      "    value=Array([0., 0.], dtype=float32),\n",
      "    collection='params',\n",
      "    sharding=None\n",
      "  ),\n",
      "  'w': Node(\n",
      "    value=Array([[0.31696808, 0.55285215],\n",
      "           [0.31418085, 0.7399571 ]], dtype=float32),\n",
      "    collection='params',\n",
      "    sharding=None\n",
      "  )\n",
      "})\n",
      "ModuleDef(\n",
      "  type=Linear,\n",
      "  index=0,\n",
      "  submodules=(\n",
      "    ('submodule', 0)\n",
      "  ),\n",
      "  static_fields=(('din', 2), ('dout', 2))\n",
      ")\n"
     ]
    }
   ],
   "source": [
    "state, moduledef = linear.partition()\n",
    "\n",
    "print(state)\n",
    "print(moduledef)"
   ]
  },
  {
   "cell_type": "code",
   "execution_count": 6,
   "metadata": {},
   "outputs": [
    {
     "data": {
      "text/plain": [
       "True"
      ]
     },
     "execution_count": 6,
     "metadata": {},
     "output_type": "execute_result"
    }
   ],
   "source": [
    "linear2 = moduledef.merge(state)\n",
    "\n",
    "linear2.submodule is linear2"
   ]
  },
  {
   "cell_type": "code",
   "execution_count": 7,
   "metadata": {},
   "outputs": [
    {
     "ename": "AttributeError",
     "evalue": "module 'nnx' has no attribute 'var'",
     "output_type": "error",
     "traceback": [
      "\u001b[0;31m---------------------------------------------------------------------------\u001b[0m",
      "\u001b[0;31mAttributeError\u001b[0m                            Traceback (most recent call last)",
      "Cell \u001b[0;32mIn[7], line 17\u001b[0m\n\u001b[1;32m     13\u001b[0m         \u001b[39mreturn\u001b[39;00m y\n\u001b[1;32m     15\u001b[0m linear \u001b[39m=\u001b[39m Linear(\u001b[39m2\u001b[39m, \u001b[39m2\u001b[39m, ctx\u001b[39m=\u001b[39mnnx\u001b[39m.\u001b[39mcontext(\u001b[39m0\u001b[39m))\n\u001b[0;32m---> 17\u001b[0m y \u001b[39m=\u001b[39m linear(jnp\u001b[39m.\u001b[39;49mones((\u001b[39m2\u001b[39;49m, \u001b[39m2\u001b[39;49m)))\n\u001b[1;32m     19\u001b[0m \u001b[39mprint\u001b[39m(linear)\n\u001b[1;32m     20\u001b[0m \u001b[39mprint\u001b[39m(y)\n",
      "Cell \u001b[0;32mIn[7], line 12\u001b[0m, in \u001b[0;36mLinear.__call__\u001b[0;34m(self, x)\u001b[0m\n\u001b[1;32m     10\u001b[0m \u001b[39mdef\u001b[39;00m \u001b[39m__call__\u001b[39m(\u001b[39mself\u001b[39m, x):\n\u001b[1;32m     11\u001b[0m     y \u001b[39m=\u001b[39m x \u001b[39m@\u001b[39m \u001b[39mself\u001b[39m\u001b[39m.\u001b[39mw \u001b[39m+\u001b[39m \u001b[39mself\u001b[39m\u001b[39m.\u001b[39mb\n\u001b[0;32m---> 12\u001b[0m     \u001b[39mself\u001b[39m\u001b[39m.\u001b[39my \u001b[39m=\u001b[39m nnx\u001b[39m.\u001b[39;49mvar(\u001b[39m\"\u001b[39m\u001b[39mintermediate\u001b[39m\u001b[39m\"\u001b[39m, y)\n\u001b[1;32m     13\u001b[0m     \u001b[39mreturn\u001b[39;00m y\n",
      "\u001b[0;31mAttributeError\u001b[0m: module 'nnx' has no attribute 'var'"
     ]
    }
   ],
   "source": [
    "\n",
    "class Linear(nnx.Module):\n",
    "    def __init__(self, din: int, dout: int, *, ctx: nnx.Context):\n",
    "        # static attributes\n",
    "        self.din = din\n",
    "        self.dout = dout\n",
    "        # variables\n",
    "        self.w = nnx.param(jax.random.uniform(ctx.make_rng(\"params\"), (din, dout)))\n",
    "        self.b = nnx.param(jnp.zeros((dout,)))\n",
    "\n",
    "    def __call__(self, x):\n",
    "        y = x @ self.w + self.b\n",
    "        self.y = nnx.variable(\"intermediate\", y)\n",
    "        return y\n",
    "    \n",
    "linear = Linear(2, 2, ctx=nnx.context(0))\n",
    "\n",
    "y = linear(jnp.ones((2, 2)))\n",
    "\n",
    "print(linear)\n",
    "print(y)"
   ]
  },
  {
   "cell_type": "code",
   "execution_count": 8,
   "metadata": {},
   "outputs": [
    {
     "name": "stdout",
     "output_type": "stream",
     "text": [
      "State({})\n",
      "State({\n",
      "  'b': Node(\n",
      "    value=Array([0., 0.], dtype=float32),\n",
      "    collection='params',\n",
      "    sharding=None\n",
      "  ),\n",
      "  'w': Node(\n",
      "    value=Array([[0.31696808, 0.55285215],\n",
      "           [0.31418085, 0.7399571 ]], dtype=float32),\n",
      "    collection='params',\n",
      "    sharding=None\n",
      "  )\n",
      "})\n"
     ]
    }
   ],
   "source": [
    "intermediates = linear.pop_state(\"intermediate\")\n",
    "state, moduledef = linear.partition()\n",
    "\n",
    "print(intermediates)\n",
    "print(state)"
   ]
  },
  {
   "cell_type": "code",
   "execution_count": null,
   "metadata": {},
   "outputs": [],
   "source": []
  }
 ],
 "metadata": {
  "kernelspec": {
   "display_name": ".venv",
   "language": "python",
   "name": "python3"
  },
  "language_info": {
   "codemirror_mode": {
    "name": "ipython",
    "version": 3
   },
   "file_extension": ".py",
   "mimetype": "text/x-python",
   "name": "python",
   "nbconvert_exporter": "python",
   "pygments_lexer": "ipython3",
   "version": "3.9.17"
  },
  "orig_nbformat": 4
 },
 "nbformat": 4,
 "nbformat_minor": 2
}
