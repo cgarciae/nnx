{
 "cells": [
  {
   "cell_type": "code",
   "execution_count": 1,
   "metadata": {},
   "outputs": [
    {
     "name": "stderr",
     "output_type": "stream",
     "text": [
      "No GPU/TPU found, falling back to CPU. (Set TF_CPP_MIN_LOG_LEVEL=0 and rerun for more info.)\n"
     ]
    },
    {
     "name": "stdout",
     "output_type": "stream",
     "text": [
      "Linear(\n",
      "  din=2,\n",
      "  dout=2\n",
      ")\n",
      "[[0.63114893 1.2928092 ]\n",
      " [0.63114893 1.2928092 ]]\n"
     ]
    }
   ],
   "source": [
    "import numpy as np\n",
    "import nnx\n",
    "import jax\n",
    "import jax.numpy as jnp\n",
    "\n",
    "class Linear(nnx.Module):\n",
    "    def __init__(self, din: int, dout: int, *, ctx: nnx.Context):\n",
    "        # static attributes\n",
    "        self.din = din\n",
    "        self.dout = dout\n",
    "        # variables\n",
    "        self.w = nnx.param(jax.random.uniform(ctx.make_rng(\"params\"), (din, dout)))\n",
    "        self.b = nnx.param(jnp.zeros((dout,)))\n",
    "        # other state\n",
    "        self.jax_array = jnp.array(1)\n",
    "        self.numpy_array = np.array(1)\n",
    "\n",
    "    def __call__(self, x):\n",
    "        return x @ self.w + self.b\n",
    "    \n",
    "ctx = nnx.context(0)\n",
    "linear = Linear(2, 2, ctx=ctx)\n",
    "\n",
    "y = linear(jnp.ones((2, 2)))\n",
    "\n",
    "print(linear)\n",
    "print(y)"
   ]
  },
  {
   "cell_type": "code",
   "execution_count": 2,
   "metadata": {},
   "outputs": [
    {
     "name": "stdout",
     "output_type": "stream",
     "text": [
      "State({\n",
      "  ('b',): Variable(\n",
      "    collection=params,\n",
      "    value=Array([0., 0.], dtype=float32)\n",
      "  ),\n",
      "  ('jax_array',): Array(1, dtype=int32, weak_type=True),\n",
      "  ('numpy_array',): array(1),\n",
      "  ('w',): Variable(\n",
      "    collection=params,\n",
      "    value=Array([[0.31696808, 0.55285215],\n",
      "           [0.31418085, 0.7399571 ]], dtype=float32)\n",
      "  )\n",
      "})\n",
      "ModuleDef(\n",
      "  type=Linear,\n",
      "  index=0,\n",
      "  submodules=(),\n",
      "  static_fields=(('din', 2), ('dout', 2))\n",
      ")\n"
     ]
    }
   ],
   "source": [
    "state, moduledef = linear.partition()\n",
    "\n",
    "print(state)\n",
    "print(moduledef)"
   ]
  },
  {
   "cell_type": "code",
   "execution_count": 3,
   "metadata": {},
   "outputs": [
    {
     "name": "stdout",
     "output_type": "stream",
     "text": [
      "Linear(\n",
      "  din=2,\n",
      "  dout=2,\n",
      "  submodule=Linear(...)\n",
      ")\n",
      "[[0.63114893 1.2928092 ]\n",
      " [0.63114893 1.2928092 ]]\n"
     ]
    }
   ],
   "source": [
    "class Linear(nnx.Module):\n",
    "    def __init__(self, din: int, dout: int, *, ctx: nnx.Context):\n",
    "        self.din = din\n",
    "        self.dout = dout\n",
    "        self.w = nnx.param(jax.random.uniform(ctx.make_rng(\"params\"), (din, dout)))\n",
    "        self.b = nnx.param(jnp.zeros((dout,)))\n",
    "        # introduce a self-reference\n",
    "        self.submodule = self\n",
    "\n",
    "    def __call__(self, x):\n",
    "        return x @ self.submodule.w + self.submodule.b\n",
    "    \n",
    "ctx = nnx.context(0)\n",
    "linear = Linear(2, 2, ctx=ctx)\n",
    "\n",
    "y = linear(jnp.ones((2, 2)))\n",
    "\n",
    "print(linear)\n",
    "print(y)"
   ]
  },
  {
   "cell_type": "code",
   "execution_count": 4,
   "metadata": {},
   "outputs": [
    {
     "name": "stdout",
     "output_type": "stream",
     "text": [
      "State({\n",
      "  ('b',): Variable(\n",
      "    collection=params,\n",
      "    value=Array([0., 0.], dtype=float32)\n",
      "  ),\n",
      "  ('w',): Variable(\n",
      "    collection=params,\n",
      "    value=Array([[0.31696808, 0.55285215],\n",
      "           [0.31418085, 0.7399571 ]], dtype=float32)\n",
      "  )\n",
      "})\n",
      "ModuleDef(\n",
      "  type=Linear,\n",
      "  index=0,\n",
      "  submodules=(\n",
      "    ('submodule', 0)\n",
      "  ),\n",
      "  static_fields=(('din', 2), ('dout', 2))\n",
      ")\n"
     ]
    }
   ],
   "source": [
    "state, moduledef = linear.partition()\n",
    "\n",
    "print(state)\n",
    "print(moduledef)"
   ]
  },
  {
   "cell_type": "code",
   "execution_count": 5,
   "metadata": {},
   "outputs": [
    {
     "name": "stdout",
     "output_type": "stream",
     "text": [
      "True\n"
     ]
    }
   ],
   "source": [
    "linear2 = moduledef.merge(state)\n",
    "\n",
    "print(linear2.submodule is linear2)"
   ]
  },
  {
   "cell_type": "code",
   "execution_count": 6,
   "metadata": {},
   "outputs": [
    {
     "name": "stdout",
     "output_type": "stream",
     "text": [
      "Linear(\n",
      "  din=2,\n",
      "  dout=2\n",
      ")\n",
      "[[0.63114893 1.2928092 ]\n",
      " [0.63114893 1.2928092 ]]\n"
     ]
    }
   ],
   "source": [
    "\n",
    "class Linear(nnx.Module):\n",
    "    def __init__(self, din: int, dout: int, *, ctx: nnx.Context):\n",
    "        # static attributes\n",
    "        self.din = din\n",
    "        self.dout = dout\n",
    "        # variables\n",
    "        self.w = nnx.param(jax.random.uniform(ctx.make_rng(\"params\"), (din, dout)))\n",
    "        self.b = nnx.param(jnp.zeros((dout,)))\n",
    "\n",
    "    def __call__(self, x):\n",
    "        y = x @ self.w + self.b\n",
    "        self.y = nnx.var(\"intermediate\", y)\n",
    "        return y\n",
    "    \n",
    "ctx = nnx.context(0)\n",
    "linear = Linear(2, 2, ctx=ctx)\n",
    "\n",
    "y = linear(jnp.ones((2, 2)))\n",
    "\n",
    "print(linear)\n",
    "print(y)"
   ]
  },
  {
   "cell_type": "code",
   "execution_count": 7,
   "metadata": {},
   "outputs": [
    {
     "name": "stdout",
     "output_type": "stream",
     "text": [
      "State({\n",
      "  ('y',): Variable(\n",
      "    collection=intermediate,\n",
      "    value=Array([[0.63114893, 1.2928092 ],\n",
      "           [0.63114893, 1.2928092 ]], dtype=float32)\n",
      "  )\n",
      "})\n",
      "State({\n",
      "  ('b',): Variable(\n",
      "    collection=params,\n",
      "    value=Array([0., 0.], dtype=float32)\n",
      "  ),\n",
      "  ('w',): Variable(\n",
      "    collection=params,\n",
      "    value=Array([[0.31696808, 0.55285215],\n",
      "           [0.31418085, 0.7399571 ]], dtype=float32)\n",
      "  )\n",
      "})\n"
     ]
    }
   ],
   "source": [
    "intermediates = linear.pop_state(\"intermediate\")\n",
    "state, moduledef = linear.partition()\n",
    "\n",
    "print(intermediates)\n",
    "print(state)"
   ]
  },
  {
   "cell_type": "code",
   "execution_count": 8,
   "metadata": {},
   "outputs": [
    {
     "name": "stdout",
     "output_type": "stream",
     "text": [
      "Foo(\n",
      "  dict=Map(\n",
      "    b=Linear(\n",
      "      din=2,\n",
      "      dout=2\n",
      "    ),\n",
      "    c=aaa\n",
      "  ),\n",
      "  seq=Sequence(\n",
      "    1=Linear(\n",
      "      din=2,\n",
      "      dout=2\n",
      "    ),\n",
      "    2=bbb\n",
      "  )\n",
      ")\n",
      "State({\n",
      "  ('dict', 'a'): Variable(\n",
      "    collection=params,\n",
      "    value=Array([[1., 1.],\n",
      "           [1., 1.]], dtype=float32)\n",
      "  ),\n",
      "  ('dict', 'b', 'b'): Variable(\n",
      "    collection=params,\n",
      "    value=Array([0., 0.], dtype=float32)\n",
      "  ),\n",
      "  ('dict', 'b', 'w'): Variable(\n",
      "    collection=params,\n",
      "    value=Array([[0.58674836, 0.94791114],\n",
      "           [0.71813095, 0.8924824 ]], dtype=float32)\n",
      "  ),\n",
      "  ('seq', '0'): Variable(\n",
      "    collection=params,\n",
      "    value=Array([[1., 1.],\n",
      "           [1., 1.]], dtype=float32)\n",
      "  ),\n",
      "  ('seq', '1', 'b'): Variable(\n",
      "    collection=params,\n",
      "    value=Array([0., 0.], dtype=float32)\n",
      "  ),\n",
      "  ('seq', '1', 'w'): Variable(\n",
      "    collection=params,\n",
      "    value=Array([[0.35177028, 0.38650823],\n",
      "           [0.9912766 , 0.1499139 ]], dtype=float32)\n",
      "  )\n",
      "})\n",
      "ModuleDef(\n",
      "  type=Foo,\n",
      "  index=0,\n",
      "  submodules=(\n",
      "    ('dict', ModuleDef(\n",
      "      type=Map,\n",
      "      index=1,\n",
      "      submodules=(\n",
      "        ('b', ModuleDef(\n",
      "          type=Linear,\n",
      "          index=2,\n",
      "          submodules=(),\n",
      "          static_fields=(('din', 2), ('dout', 2))\n",
      "        ))\n",
      "      ),\n",
      "      static_fields=(('c', 'aaa'),)\n",
      "    )),\n",
      "    ('seq', ModuleDef(\n",
      "      type=Sequence,\n",
      "      index=3,\n",
      "      submodules=(\n",
      "        ('1', ModuleDef(\n",
      "          type=Linear,\n",
      "          index=4,\n",
      "          submodules=(),\n",
      "          static_fields=(('din', 2), ('dout', 2))\n",
      "        ))\n",
      "      ),\n",
      "      static_fields=(('2', 'bbb'), ('_length', 3))\n",
      "    ))\n",
      "  ),\n",
      "  static_fields=()\n",
      ")\n"
     ]
    }
   ],
   "source": [
    "class Foo(nnx.Module):\n",
    "    def __init__(self, ctx: nnx.Context):\n",
    "        self.dict = nnx.Map({\n",
    "            \"a\": nnx.param(jnp.ones((2, 2))),\n",
    "            \"b\": Linear(2, 2, ctx=ctx),\n",
    "            \"c\": \"aaa\",\n",
    "        })\n",
    "        self.seq = nnx.Sequence([\n",
    "            nnx.param(jnp.ones((2, 2))),\n",
    "            Linear(2, 2, ctx=ctx),\n",
    "            \"bbb\"\n",
    "        ])\n",
    "\n",
    "foo = Foo(ctx=ctx)\n",
    "\n",
    "state, moduledef = foo.partition()\n",
    "\n",
    "print(foo)\n",
    "print(state)\n",
    "print(moduledef)"
   ]
  }
 ],
 "metadata": {
  "kernelspec": {
   "display_name": ".venv",
   "language": "python",
   "name": "python3"
  },
  "language_info": {
   "codemirror_mode": {
    "name": "ipython",
    "version": 3
   },
   "file_extension": ".py",
   "mimetype": "text/x-python",
   "name": "python",
   "nbconvert_exporter": "python",
   "pygments_lexer": "ipython3",
   "version": "3.8.10"
  },
  "orig_nbformat": 4
 },
 "nbformat": 4,
 "nbformat_minor": 2
}
