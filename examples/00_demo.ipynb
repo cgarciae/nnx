{
 "cells": [
  {
   "cell_type": "code",
   "execution_count": 1,
   "metadata": {},
   "outputs": [
    {
     "data": {
      "text/plain": [
       "Linear(\n",
       "  din=2,\n",
       "  dout=2,\n",
       "  w=MutableVariable(\n",
       "      collection='params',\n",
       "      value=Array([[0.31696808, 0.55285215],\n",
       "             [0.31418085, 0.7399571 ]], dtype=float32)\n",
       "  ),\n",
       "  b=MutableVariable(\n",
       "      collection='params',\n",
       "      value=Array([0., 0.], dtype=float32)\n",
       "  )\n",
       ")"
      ]
     },
     "execution_count": 1,
     "metadata": {},
     "output_type": "execute_result"
    }
   ],
   "source": [
    "import nnx\n",
    "import jax\n",
    "import jax.numpy as jnp\n",
    "\n",
    "class Linear(nnx.Module):\n",
    "    def __init__(self, din: int, dout: int, *, ctx: nnx.Context):\n",
    "        self.din = din\n",
    "        self.dout = dout\n",
    "        self.w = nnx.param(jax.random.uniform(ctx.make_rng(\"params\"), (din, dout)))\n",
    "        self.b = nnx.param(jnp.zeros((dout,)))\n",
    "\n",
    "    def __call__(self, x):\n",
    "        self.interm = nnx.var(\"interm\", x)\n",
    "        return x @ self.w + self.b\n",
    "    \n",
    "ctx = nnx.Context(jax.random.PRNGKey(0))\n",
    "linear = Linear(2, 2, ctx=ctx)\n",
    "\n",
    "linear"
   ]
  },
  {
   "cell_type": "code",
   "execution_count": 2,
   "metadata": {},
   "outputs": [
    {
     "data": {
      "text/plain": [
       "Array([[0.6308594, 1.2929688],\n",
       "       [0.6308594, 1.2929688]], dtype=float32)"
      ]
     },
     "execution_count": 2,
     "metadata": {},
     "output_type": "execute_result"
    }
   ],
   "source": [
    "\n",
    "y = linear(jnp.ones((2, 2)))\n",
    "interm = linear.pop(\"interm\")\n",
    "y"
   ]
  },
  {
   "cell_type": "code",
   "execution_count": 3,
   "metadata": {},
   "outputs": [
    {
     "data": {
      "text/plain": [
       "State({\n",
       "  ('interm',): Variable(\n",
       "      collection='interm',\n",
       "      value=Array([[1., 1.],\n",
       "             [1., 1.]], dtype=float32),\n",
       "      sharding=None\n",
       "  )\n",
       "})"
      ]
     },
     "execution_count": 3,
     "metadata": {},
     "output_type": "execute_result"
    }
   ],
   "source": [
    "interm"
   ]
  },
  {
   "cell_type": "code",
   "execution_count": 4,
   "metadata": {},
   "outputs": [
    {
     "name": "stdout",
     "output_type": "stream",
     "text": [
      "State({\n",
      "  ('b',): Variable(\n",
      "      collection='params',\n",
      "      value=Array([0., 0.], dtype=float32),\n",
      "      sharding=None\n",
      "  ),\n",
      "  ('w',): Variable(\n",
      "      collection='params',\n",
      "      value=Array([[0.31696808, 0.55285215],\n",
      "             [0.31418085, 0.7399571 ]], dtype=float32),\n",
      "      sharding=None\n",
      "  )\n",
      "})\n",
      "ModuleDef(\n",
      "  type=Linear,\n",
      "  index=0,\n",
      "  submodules=(),\n",
      "  static_fields=(('din', 2), ('dout', 2))\n",
      ")\n"
     ]
    }
   ],
   "source": [
    "state, moduledef = linear.split()\n",
    "\n",
    "print(state)\n",
    "print(moduledef)"
   ]
  },
  {
   "cell_type": "code",
   "execution_count": 5,
   "metadata": {},
   "outputs": [
    {
     "data": {
      "text/plain": [
       "Array([[0.6308594, 1.2929688],\n",
       "       [0.6308594, 1.2929688]], dtype=float32)"
      ]
     },
     "execution_count": 5,
     "metadata": {},
     "output_type": "execute_result"
    }
   ],
   "source": [
    "class SelfReferenceLinear(nnx.Module):\n",
    "    def __init__(self, din: int, dout: int, *, ctx: nnx.Context):\n",
    "        self.din = din\n",
    "        self.dout = dout\n",
    "        self.x = jnp.array(1)\n",
    "        self.w = nnx.param(jax.random.uniform(ctx.make_rng(\"params\"), (din, dout)))\n",
    "        self.b = nnx.param(jnp.zeros((dout,)))\n",
    "        self.submodule = self\n",
    "\n",
    "    def __call__(self, x):\n",
    "        return x @ self.submodule.w + self.submodule.b\n",
    "    \n",
    "ctx = nnx.Context(jax.random.PRNGKey(0))\n",
    "linear = SelfReferenceLinear(2, 2, ctx=ctx)\n",
    "\n",
    "y = linear(jnp.ones((2, 2)))\n",
    "y"
   ]
  },
  {
   "cell_type": "code",
   "execution_count": 6,
   "metadata": {},
   "outputs": [
    {
     "name": "stdout",
     "output_type": "stream",
     "text": [
      "State({\n",
      "  ('b',): Variable(\n",
      "      collection='params',\n",
      "      value=Array([0., 0.], dtype=float32),\n",
      "      sharding=None\n",
      "  ),\n",
      "  ('w',): Variable(\n",
      "      collection='params',\n",
      "      value=Array([[0.31696808, 0.55285215],\n",
      "             [0.31418085, 0.7399571 ]], dtype=float32),\n",
      "      sharding=None\n",
      "  ),\n",
      "  ('x',): Array(1, dtype=int32, weak_type=True)\n",
      "})\n",
      "ModuleDef(\n",
      "  type=SelfReferenceLinear,\n",
      "  index=0,\n",
      "  submodules=(('submodule', 0),),\n",
      "  static_fields=(('din', 2), ('dout', 2))\n",
      ")\n"
     ]
    }
   ],
   "source": [
    "state, moduledef = linear.split()\n",
    "\n",
    "print(state)\n",
    "print(moduledef)"
   ]
  },
  {
   "cell_type": "code",
   "execution_count": 7,
   "metadata": {},
   "outputs": [
    {
     "data": {
      "text/plain": [
       "True"
      ]
     },
     "execution_count": 7,
     "metadata": {},
     "output_type": "execute_result"
    }
   ],
   "source": [
    "linear2 = moduledef.merge(state)\n",
    "linear2.submodule is linear2"
   ]
  },
  {
   "cell_type": "code",
   "execution_count": 8,
   "metadata": {},
   "outputs": [
    {
     "name": "stdout",
     "output_type": "stream",
     "text": [
      "State({\n",
      "  ('dict', 'a'): Variable(\n",
      "      collection='params',\n",
      "      value=Array([[1., 1.],\n",
      "             [1., 1.]], dtype=float32),\n",
      "      sharding=None\n",
      "  ),\n",
      "  ('dict', 'b', 'bias'): Variable(\n",
      "      collection='params',\n",
      "      value=Array([0., 0.], dtype=float32),\n",
      "      sharding=None\n",
      "  ),\n",
      "  ('dict', 'b', 'kernel'): Variable(\n",
      "      collection='params',\n",
      "      value=Array([[0.16806164, 1.1717631 ],\n",
      "             [0.44064113, 0.92326844]], dtype=float32),\n",
      "      sharding=None\n",
      "  ),\n",
      "  ('seq', '0'): Variable(\n",
      "      collection='params',\n",
      "      value=Array([[1., 1.],\n",
      "             [1., 1.]], dtype=float32),\n",
      "      sharding=None\n",
      "  ),\n",
      "  ('seq', '1', 'bias'): Variable(\n",
      "      collection='params',\n",
      "      value=Array([0., 0.], dtype=float32),\n",
      "      sharding=None\n",
      "  ),\n",
      "  ('seq', '1', 'kernel'): Variable(\n",
      "      collection='params',\n",
      "      value=Array([[-0.35356975,  0.06913038],\n",
      "             [-1.2359275 ,  0.2171132 ]], dtype=float32),\n",
      "      sharding=None\n",
      "  )\n",
      "})\n",
      "ModuleDef(\n",
      "  type=Foo,\n",
      "  index=0,\n",
      "  submodules=(('dict', ModuleDef(\n",
      "      type=Map,\n",
      "      index=1,\n",
      "      submodules=(('b', ModuleDef(\n",
      "            type=Linear,\n",
      "            index=2,\n",
      "            submodules=(),\n",
      "            static_fields=(('bias_init', <function zeros at 0x7faf42016700>), ('dot_general', <function dot_general at 0x7faf4264b430>), ('dtype', None), ('in_features', 2), ('kernel_init', <function variance_scaling.<locals>.init at 0x7faf41ef31f0>), ('out_features', 2), ('param_dtype', <class 'jax.numpy.float32'>), ('precision', None), ('use_bias', True))\n",
      "      )),),\n",
      "      static_fields=(('c', 'aaa'),)\n",
      "  )), ('seq', ModuleDef(\n",
      "      type=Seq,\n",
      "      index=3,\n",
      "      submodules=(('1', ModuleDef(\n",
      "            type=Linear,\n",
      "            index=4,\n",
      "            submodules=(),\n",
      "            static_fields=(('bias_init', <function zeros at 0x7faf42016700>), ('dot_general', <function dot_general at 0x7faf4264b430>), ('dtype', None), ('in_features', 2), ('kernel_init', <function variance_scaling.<locals>.init at 0x7faf41ef31f0>), ('out_features', 2), ('param_dtype', <class 'jax.numpy.float32'>), ('precision', None), ('use_bias', True))\n",
      "      )),),\n",
      "      static_fields=(('2', 'bbb'),)\n",
      "  ))),\n",
      "  static_fields=()\n",
      ")\n"
     ]
    }
   ],
   "source": [
    "class Foo(nnx.Module):\n",
    "    def __init__(self, ctx: nnx.Context):\n",
    "        self.dict = nnx.Map({\n",
    "            \"a\": nnx.param(jnp.ones((2, 2))),\n",
    "            \"b\": nnx.Linear(2, 2, ctx=ctx),\n",
    "            \"c\": \"aaa\",\n",
    "        })\n",
    "        self.seq = nnx.Seq([\n",
    "            nnx.param(jnp.ones((2, 2))),\n",
    "            nnx.Linear(2, 2, ctx=ctx),\n",
    "            \"bbb\"\n",
    "        ])\n",
    "\n",
    "foo = Foo(ctx=ctx)\n",
    "\n",
    "state, moduledef = foo.split()\n",
    "\n",
    "print(state)\n",
    "print(moduledef)"
   ]
  },
  {
   "cell_type": "code",
   "execution_count": null,
   "metadata": {},
   "outputs": [],
   "source": []
  }
 ],
 "metadata": {
  "kernelspec": {
   "display_name": ".venv",
   "language": "python",
   "name": "python3"
  },
  "language_info": {
   "codemirror_mode": {
    "name": "ipython",
    "version": 3
   },
   "file_extension": ".py",
   "mimetype": "text/x-python",
   "name": "python",
   "nbconvert_exporter": "python",
   "pygments_lexer": "ipython3",
   "version": "3.8.10"
  },
  "orig_nbformat": 4
 },
 "nbformat": 4,
 "nbformat_minor": 2
}
